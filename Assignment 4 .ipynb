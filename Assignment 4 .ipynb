{
 "cells": [
  {
   "cell_type": "markdown",
   "id": "468c4d52-21b6-4f6c-9e4c-66f72f062d33",
   "metadata": {},
   "source": [
    "**AKANKSHA C. KHANDARE**"
   ]
  },
  {
   "cell_type": "markdown",
   "id": "748b20fc-1daf-427f-beba-7065ea2826d8",
   "metadata": {},
   "source": [
    "Assignment4  "
   ]
  },
  {
   "cell_type": "markdown",
   "id": "c100b7df-8833-4dce-933e-4dfe3a421dc1",
   "metadata": {},
   "source": [
    "PART 1 "
   ]
  },
  {
   "cell_type": "code",
   "execution_count": 3,
   "id": "598d3f7b-68ce-41d9-a87a-be00f3b1acd0",
   "metadata": {},
   "outputs": [],
   "source": [
    "\n",
    "import pandas as pd\n",
    "from scipy.stats import chi2_contingency, chi2\n"
   ]
  },
  {
   "cell_type": "code",
   "execution_count": 4,
   "id": "5d087fdb-a091-4f93-a87f-3bb726207f53",
   "metadata": {},
   "outputs": [],
   "source": [
    "data = {\n",
    "    'Thermostat': [50, 80, 60, 30, 20],\n",
    "    'Light': [70, 100, 90, 50, 50]\n",
    "}\n",
    "labels = ['Very Satisfied', 'Satisfied', 'Neutral', 'Unsatisfied', 'Very Unsatisfied']\n",
    "table = pd.DataFrame(data, index=labels)\n"
   ]
  },
  {
   "cell_type": "markdown",
   "id": "98358e61-9628-446f-a77d-d927d28df025",
   "metadata": {},
   "source": [
    "**CHI-SQUARE TEST**"
   ]
  },
  {
   "cell_type": "code",
   "execution_count": 5,
   "id": "d8378e2d-8a12-483e-a3e5-5fce960a0c8a",
   "metadata": {},
   "outputs": [],
   "source": [
    "result = chi2_contingency(table)\n",
    "chi_stat = result[0]\n",
    "p_val = result[1]\n",
    "df = result[2]\n",
    "expected = result[3]\n"
   ]
  },
  {
   "cell_type": "code",
   "execution_count": 6,
   "id": "f1de6f0e-395b-4942-b0c2-bba13210bc36",
   "metadata": {},
   "outputs": [],
   "source": [
    "critical = chi2.ppf(0.95, df)           #FOR CRITICAL VAL\n"
   ]
  },
  {
   "cell_type": "code",
   "execution_count": 7,
   "id": "ab94abd7-0b92-403a-9e91-2049929cb97b",
   "metadata": {},
   "outputs": [
    {
     "name": "stdout",
     "output_type": "stream",
     "text": [
      "Observed:\n",
      "                  Thermostat  Light\n",
      "Very Satisfied            50     70\n",
      "Satisfied                 80    100\n",
      "Neutral                   60     90\n",
      "Unsatisfied               30     50\n",
      "Very Unsatisfied          20     50\n",
      "\n",
      "Expected:\n",
      "                  Thermostat  Light\n",
      "Very Satisfied          48.0   72.0\n",
      "Satisfied               72.0  108.0\n",
      "Neutral                 60.0   90.0\n",
      "Unsatisfied             32.0   48.0\n",
      "Very Unsatisfied        28.0   42.0\n"
     ]
    }
   ],
   "source": [
    "print(\"Observed:\")\n",
    "print(table)\n",
    "print(\"\\nExpected:\")\n",
    "print(pd.DataFrame(expected, index=labels, columns=['Thermostat', 'Light']))"
   ]
  },
  {
   "cell_type": "code",
   "execution_count": 8,
   "id": "12090fac-d9bd-411b-b9d6-de1a7b9bded3",
   "metadata": {},
   "outputs": [
    {
     "name": "stdout",
     "output_type": "stream",
     "text": [
      "\n",
      "Chi-square: 5.64\n",
      "p-value: 0.2278\n",
      "Critical value (0.05): 9.49\n"
     ]
    }
   ],
   "source": [
    "print(f\"\\nChi-square: {chi_stat:.2f}\")\n",
    "print(f\"p-value: {p_val:.4f}\")\n",
    "print(f\"Critical value (0.05): {critical:.2f}\")"
   ]
  },
  {
   "cell_type": "code",
   "execution_count": 9,
   "id": "7628fe54-02d8-4731-9d60-f08f2be1e0d5",
   "metadata": {},
   "outputs": [
    {
     "name": "stdout",
     "output_type": "stream",
     "text": [
      "Conclusion: No significant association\n"
     ]
    }
   ],
   "source": [
    "\n",
    "if chi_stat > critical:\n",
    "    print(\"Conclusion: Significant association\")\n",
    "else:\n",
    "    print(\"Conclusion: No significant association\")\n"
   ]
  },
  {
   "cell_type": "markdown",
   "id": "16c0791e-275f-4419-a4ba-628ef75f78ae",
   "metadata": {},
   "source": [
    "**Hypothesis Testing**"
   ]
  },
  {
   "cell_type": "code",
   "execution_count": 10,
   "id": "f853aaac-8c02-4a99-94bc-46df96810271",
   "metadata": {},
   "outputs": [],
   "source": [
    "from scipy.stats import norm\n",
    "import math"
   ]
  },
  {
   "cell_type": "code",
   "execution_count": 11,
   "id": "32e15937-8f27-4781-80e0-1f919238a327",
   "metadata": {},
   "outputs": [],
   "source": [
    "#GIVEN"
   ]
  },
  {
   "cell_type": "code",
   "execution_count": 12,
   "id": "50709446-a35c-4829-bb44-14e2a90d8049",
   "metadata": {},
   "outputs": [],
   "source": [
    "sample_mean = 3050\n",
    "x_mean = 600\n",
    "sample_size = 25\n",
    "std_x = 25"
   ]
  },
  {
   "cell_type": "code",
   "execution_count": 13,
   "id": "fde8e408-2dc1-4709-9b21-b1138739673a",
   "metadata": {},
   "outputs": [],
   "source": [
    "theoretical_mean = 1000 + 5 * x_mean                        # W = 1000 + 5X\n",
    "std_dev = 5 * std_x                                         # sigma = 5 * std_x"
   ]
  },
  {
   "cell_type": "code",
   "execution_count": 14,
   "id": "e7cb1e1b-b116-4a16-92cd-1299a164d403",
   "metadata": {},
   "outputs": [
    {
     "data": {
      "text/plain": [
       "4000"
      ]
     },
     "execution_count": 14,
     "metadata": {},
     "output_type": "execute_result"
    }
   ],
   "source": [
    "theoretical_mean"
   ]
  },
  {
   "cell_type": "code",
   "execution_count": 15,
   "id": "f8f6a47c-46b6-4be0-a14c-bcec317fe744",
   "metadata": {},
   "outputs": [
    {
     "data": {
      "text/plain": [
       "125"
      ]
     },
     "execution_count": 15,
     "metadata": {},
     "output_type": "execute_result"
    }
   ],
   "source": [
    "std_dev"
   ]
  },
  {
   "cell_type": "markdown",
   "id": "127f3497-52b6-4c52-9bc7-ebeb5caba43c",
   "metadata": {},
   "source": [
    "Mean_weekly_cost = 1000 + 5X (i.e., Rs. 3000)\n",
    "Mean_weekly _cost > 1000 + 5X (i.e., greater than Rs. 3000)\n"
   ]
  },
  {
   "cell_type": "markdown",
   "id": "da5f5c48-da52-445d-9f69-5d9f46f7ee5e",
   "metadata": {},
   "source": [
    "**Test statistics (Z)**"
   ]
  },
  {
   "cell_type": "code",
   "execution_count": 16,
   "id": "2df9b02c-3c05-4307-a151-ad52bb3fc417",
   "metadata": {},
   "outputs": [],
   "source": [
    "z = (sample_mean - theoretical_mean) / (std_dev / math.sqrt(sample_size))"
   ]
  },
  {
   "cell_type": "code",
   "execution_count": 17,
   "id": "7fdda71d-2815-4510-9904-caa818eca895",
   "metadata": {},
   "outputs": [
    {
     "data": {
      "text/plain": [
       "-38.0"
      ]
     },
     "execution_count": 17,
     "metadata": {},
     "output_type": "execute_result"
    }
   ],
   "source": [
    "z"
   ]
  },
  {
   "cell_type": "markdown",
   "id": "da178d91-af3f-4e97-b699-cf05bdf51c3e",
   "metadata": {},
   "source": [
    "**Critical value at alpha = 0.05 (one-tailed test)**\n",
    " \n"
   ]
  },
  {
   "cell_type": "code",
   "execution_count": 18,
   "id": "ff35679e-d9c1-4e70-a6bb-f1235fa99deb",
   "metadata": {},
   "outputs": [],
   "source": [
    " \n",
    "critical_val = norm.ppf(0.95)\n"
   ]
  },
  {
   "cell_type": "code",
   "execution_count": 19,
   "id": "3f542da2-501f-463c-9369-59924db490a5",
   "metadata": {},
   "outputs": [
    {
     "data": {
      "text/plain": [
       "np.float64(1.6448536269514722)"
      ]
     },
     "execution_count": 19,
     "metadata": {},
     "output_type": "execute_result"
    }
   ],
   "source": [
    "critical_val"
   ]
  },
  {
   "cell_type": "markdown",
   "id": "668de83e-c0a2-444b-a02a-901605a36a25",
   "metadata": {},
   "source": [
    "**Decision***"
   ]
  },
  {
   "cell_type": "code",
   "execution_count": 20,
   "id": "65e789e3-7f91-458f-b657-3ea87be9a2c5",
   "metadata": {},
   "outputs": [
    {
     "name": "stdout",
     "output_type": "stream",
     "text": [
      "Test Statistic (Z): -38.00\n",
      "Critical Value (0.05): 1.64\n"
     ]
    }
   ],
   "source": [
    "print(f\"Test Statistic (Z): {z:.2f}\")\n",
    "print(f\"Critical Value (0.05): {critical_val:.2f}\")\n"
   ]
  },
  {
   "cell_type": "code",
   "execution_count": 21,
   "id": "ca533310-5b64-43eb-b906-cef4f45b377d",
   "metadata": {},
   "outputs": [
    {
     "name": "stdout",
     "output_type": "stream",
     "text": [
      "Conclusion: Fail to reject H0 – No significant increase in weekly cost.\n"
     ]
    }
   ],
   "source": [
    "if z > critical_val:\n",
    "    print(\"Conclusion: Reject H0 – Weekly cost is significantly higher.\")\n",
    "else:\n",
    "    print(\"Conclusion: Fail to reject H0 – No significant increase in weekly cost.\")\n"
   ]
  },
  {
   "cell_type": "code",
   "execution_count": null,
   "id": "2854bf8c-c44d-4603-ad89-514bc97f1ee8",
   "metadata": {},
   "outputs": [],
   "source": []
  },
  {
   "cell_type": "code",
   "execution_count": null,
   "id": "04d47e9f-046c-43a3-81ca-3bd5584b6fe0",
   "metadata": {},
   "outputs": [],
   "source": []
  }
 ],
 "metadata": {
  "kernelspec": {
   "display_name": "Python 3 (ipykernel)",
   "language": "python",
   "name": "python3"
  },
  "language_info": {
   "codemirror_mode": {
    "name": "ipython",
    "version": 3
   },
   "file_extension": ".py",
   "mimetype": "text/x-python",
   "name": "python",
   "nbconvert_exporter": "python",
   "pygments_lexer": "ipython3",
   "version": "3.13.5"
  }
 },
 "nbformat": 4,
 "nbformat_minor": 5
}
