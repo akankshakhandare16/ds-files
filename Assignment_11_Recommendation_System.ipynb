{
 "cells": [
  {
   "cell_type": "markdown",
   "id": "31879796-ff1d-4f67-aaac-43ce1fa4830f",
   "metadata": {},
   "source": [
    "***Assignment_11_Recommendation_System***"
   ]
  },
  {
   "cell_type": "markdown",
   "id": "4746c515-2a4c-4b58-ad0b-d69a8c43af55",
   "metadata": {},
   "source": [
    "***Akanksha c. akahandare***"
   ]
  },
  {
   "cell_type": "markdown",
   "id": "245fb009-c49d-479c-a5d5-ab046e22a5cc",
   "metadata": {},
   "source": [
    "***# Step 1: Import Libraries***"
   ]
  },
  {
   "cell_type": "code",
   "execution_count": 22,
   "id": "67d1433a-d1de-4823-855d-6ab301147394",
   "metadata": {},
   "outputs": [],
   "source": [
    "import pandas as pd\n",
    "import numpy as np\n",
    "from sklearn.feature_extraction.text import CountVectorizer\n",
    "from sklearn.metrics.pairwise import cosine_similarity\n",
    "from sklearn.model_selection import train_test_split\n",
    "from sklearn.metrics import precision_score, recall_score, f1_score\n",
    "import matplotlib.pyplot as plt\n",
    "import seaborn as sns\n"
   ]
  },
  {
   "cell_type": "markdown",
   "id": "ebee35fb-3a97-4460-b224-bdb8fabc571c",
   "metadata": {},
   "source": [
    "***Step 2: Load Dataset***"
   ]
  },
  {
   "cell_type": "code",
   "execution_count": 5,
   "id": "d449690b-fd3e-4b6c-83e9-572a5910c3b2",
   "metadata": {},
   "outputs": [
    {
     "name": "stdout",
     "output_type": "stream",
     "text": [
      "✅ Dataset Loaded Successfully!\n",
      "   anime_id                              name  \\\n",
      "0     32281                    Kimi no Na wa.   \n",
      "1      5114  Fullmetal Alchemist: Brotherhood   \n",
      "2     28977                          Gintama°   \n",
      "3      9253                       Steins;Gate   \n",
      "4      9969                     Gintama&#039;   \n",
      "\n",
      "                                               genre   type episodes  rating  \\\n",
      "0               Drama, Romance, School, Supernatural  Movie        1    9.37   \n",
      "1  Action, Adventure, Drama, Fantasy, Magic, Mili...     TV       64    9.26   \n",
      "2  Action, Comedy, Historical, Parody, Samurai, S...     TV       51    9.25   \n",
      "3                                   Sci-Fi, Thriller     TV       24    9.17   \n",
      "4  Action, Comedy, Historical, Parody, Samurai, S...     TV       51    9.16   \n",
      "\n",
      "   members  \n",
      "0   200630  \n",
      "1   793665  \n",
      "2   114262  \n",
      "3   673572  \n",
      "4   151266  \n"
     ]
    }
   ],
   "source": [
    "\n",
    "df = pd.read_csv(\"anime.csv\")\n",
    "print(\"✅ Dataset Loaded Successfully!\")\n",
    "print(df.head())"
   ]
  },
  {
   "cell_type": "markdown",
   "id": "3a3333ac-4f44-44c1-8fe7-e80d7e2d7590",
   "metadata": {},
   "source": [
    "***Step 3: Data preprocessing***"
   ]
  },
  {
   "cell_type": "code",
   "execution_count": 23,
   "id": "d9355c68-606d-4674-86fe-1e438a184a97",
   "metadata": {},
   "outputs": [
    {
     "name": "stdout",
     "output_type": "stream",
     "text": [
      "\n",
      "Missing Values:\n",
      "anime_id             0\n",
      "name                 0\n",
      "genre                0\n",
      "type                 0\n",
      "episodes             0\n",
      "rating               0\n",
      "members              0\n",
      "combined_features    0\n",
      "dtype: int64\n",
      "\n",
      "After Cleaning:\n",
      "anime_id             0\n",
      "name                 0\n",
      "genre                0\n",
      "type                 0\n",
      "episodes             0\n",
      "rating               0\n",
      "members              0\n",
      "combined_features    0\n",
      "dtype: int64\n"
     ]
    }
   ],
   "source": [
    "print(\"\\nMissing Values:\")\n",
    "print(df.isnull().sum())\n",
    "\n",
    "df['genre'] = df['genre'].fillna('Unknown')\n",
    "df['type'] = df['type'].fillna('Unknown')\n",
    "df['rating'] = df['rating'].fillna(df['rating'].mean())\n",
    "\n",
    "df['episodes'] = df['episodes'].replace('Unknown', np.nan)\n",
    "df['episodes'] = pd.to_numeric(df['episodes'], errors='coerce')\n",
    "df['episodes'] = df['episodes'].fillna(df['episodes'].median())\n",
    "\n",
    "print(\"\\nAfter Cleaning:\")\n",
    "print(df.isnull().sum())\n"
   ]
  },
  {
   "cell_type": "markdown",
   "id": "99002562-c81c-4b04-a2e8-fe4ec89b82f0",
   "metadata": {},
   "source": [
    "We check for missing values and handle them appropriately.\n",
    "\n",
    "Missing genres and types are replaced with \"Unknown\".\n",
    "\n",
    "Ratings are filled with the mean value.\n",
    "\n",
    "Non-numeric episode counts are cleaned and filled with the median.\n",
    "This ensures that the dataset is complete and consistent."
   ]
  },
  {
   "cell_type": "markdown",
   "id": "afd8b1aa-96b5-48d0-8b9e-111472de75fb",
   "metadata": {},
   "source": [
    "***Step4: (EDA)***"
   ]
  },
  {
   "cell_type": "code",
   "execution_count": 25,
   "id": "7c2c6fa0-c482-4676-ab0c-8161e8b13a1b",
   "metadata": {},
   "outputs": [
    {
     "name": "stdout",
     "output_type": "stream",
     "text": [
      "\n",
      "Dataset Info:\n",
      "<class 'pandas.core.frame.DataFrame'>\n",
      "RangeIndex: 12294 entries, 0 to 12293\n",
      "Data columns (total 8 columns):\n",
      " #   Column             Non-Null Count  Dtype  \n",
      "---  ------             --------------  -----  \n",
      " 0   anime_id           12294 non-null  int64  \n",
      " 1   name               12294 non-null  object \n",
      " 2   genre              12294 non-null  object \n",
      " 3   type               12294 non-null  object \n",
      " 4   episodes           12294 non-null  float64\n",
      " 5   rating             12294 non-null  float64\n",
      " 6   members            12294 non-null  int64  \n",
      " 7   combined_features  12294 non-null  object \n",
      "dtypes: float64(2), int64(2), object(4)\n",
      "memory usage: 768.5+ KB\n",
      "None\n"
     ]
    }
   ],
   "source": [
    "print(\"\\nDataset Info:\")\n",
    "print(df.info())"
   ]
  },
  {
   "cell_type": "code",
   "execution_count": 11,
   "id": "889f17af-6576-49fb-94d5-62effb7c7642",
   "metadata": {},
   "outputs": [
    {
     "data": {
      "image/png": "[encoded data removed]",
      "text/plain": [
       "<Figure size 800x500 with 1 Axes>"
      ]
     },
     "metadata": {},
     "output_type": "display_data"
    }
   ],
   "source": [
    "plt.figure(figsize=(8,5))\n",
    "sns.histplot(df['rating'], bins=20, kde=True)\n",
    "plt.title(\"Distribution of Anime Ratings\")\n",
    "plt.show()"
   ]
  },
  {
   "cell_type": "code",
   "execution_count": 26,
   "id": "07d1b7ff-4095-402e-9cde-cdb6287d9467",
   "metadata": {},
   "outputs": [
    {
     "data": {
      "image/png": "[encoded data removed]",
      "text/plain": [
       "<Figure size 1000x500 with 1 Axes>"
      ]
     },
     "metadata": {},
     "output_type": "display_data"
    }
   ],
   "source": [
    "plt.figure(figsize=(10,5))\n",
    "sns.countplot(y='type', data=df, order=df['type'].value_counts().index)\n",
    "plt.title(\"Anime Count by Type\")\n",
    "plt.show()"
   ]
  },
  {
   "cell_type": "markdown",
   "id": "3d717bd3-5e5e-44f4-91ca-4503f87f4c0f",
   "metadata": {},
   "source": [
    "We explore the dataset’s structure, data types, and distribution.\n",
    "Visualizing helps us see how anime ratings are spread and which types (like TV, OVA, etc.) are most common.\n",
    "This gives us insights for selecting features."
   ]
  },
  {
   "cell_type": "markdown",
   "id": "deeee7eb-c01d-47e8-a65a-29d18f67ab52",
   "metadata": {},
   "source": [
    "***Step 5: Feature Extraction***"
   ]
  },
  {
   "cell_type": "code",
   "execution_count": 27,
   "id": "6481f2fa-ea02-499a-b5a3-44f0ac0d7e0e",
   "metadata": {},
   "outputs": [],
   "source": [
    "df['combined_features'] = (\n",
    "    df['genre'] + \" \" +\n",
    "    df['type'] + \" \" +\n",
    "    df['episodes'].astype(str)\n",
    ")\n",
    "\n",
    "vectorizer = CountVectorizer(stop_words='english')\n",
    "count_matrix = vectorizer.fit_transform(df['combined_features'])\n"
   ]
  },
  {
   "cell_type": "markdown",
   "id": "ea28cfc8-189d-4d54-9684-e95f52ac8679",
   "metadata": {},
   "source": [
    "combineD important columns — genre, type, and episodes — into one text feature.\n",
    "CountVectorizer then converts these text-based features into a matrix of numbers suitable for similarity calculation."
   ]
  },
  {
   "cell_type": "markdown",
   "id": "ebf5901b-8a98-4ed4-bde2-6b2f084e9f01",
   "metadata": {},
   "source": [
    "***Step 6: Compute Cosine Similarity***"
   ]
  },
  {
   "cell_type": "code",
   "execution_count": 28,
   "id": "461d0daa-165b-4cc9-8c7a-75844ef61479",
   "metadata": {},
   "outputs": [
    {
     "name": "stdout",
     "output_type": "stream",
     "text": [
      "✅ Cosine Similarity Matrix Created!\n"
     ]
    }
   ],
   "source": [
    "cosine_sim = cosine_similarity(count_matrix, count_matrix)\n",
    "print(\"✅ Cosine Similarity Matrix Created!\")\n"
   ]
  },
  {
   "cell_type": "markdown",
   "id": "b9932a10-eb8d-4576-972a-fff259c54705",
   "metadata": {},
   "source": [
    "Cosine similarity measures how close two anime are based on their combined features.\n",
    "A higher cosine score means two anime are more similar.\n",
    "We compute a similarity matrix showing similarity between every pair of anime."
   ]
  },
  {
   "cell_type": "markdown",
   "id": "4e80bcaf-7364-4fc4-bb88-cb358e5b66e3",
   "metadata": {},
   "source": [
    "***Step 7: Build Recommendation Function***"
   ]
  },
  {
   "cell_type": "code",
   "execution_count": 29,
   "id": "a2e7473e-2baa-4cba-a055-6ee5a625c008",
   "metadata": {},
   "outputs": [],
   "source": [
    "def recommend_anime(title, top_n=5, threshold=0.4):\n",
    "    if title not in df['name'].values:\n",
    "        print(\"❌ Anime not found in dataset.\")\n",
    "        return\n",
    "    \n",
    "    index = df[df['name'] == title].index[0]\n",
    "    sim_scores = list(enumerate(cosine_sim[index]))\n",
    "    \n",
    "    sim_scores = [(i, s) for i, s in sim_scores if s > threshold]\n",
    "    sim_scores = sorted(sim_scores, key=lambda x: x[1], reverse=True)\n",
    "    sim_scores = sim_scores[1:top_n+1]\n",
    "    \n",
    "    anime_indices = [i[0] for i in sim_scores]\n",
    "    print(f\"\\n🎯 Top {top_n} Anime similar to '{title}' (Threshold={threshold}):\")\n",
    "    print(df[['name', 'genre', 'type', 'rating']].iloc[anime_indices])\n"
   ]
  },
  {
   "cell_type": "markdown",
   "id": "4b135817-6435-4016-9975-df5ff1d0bb03",
   "metadata": {},
   "source": [
    "This function finds anime similar to a given title using cosine similarity scores.\n",
    "You can adjust:\n",
    "\n",
    "top_n → number of recommendations\n",
    "\n",
    "threshold → how strict the similarity filter is\n",
    "It displays a list of anime most similar to the selected one."
   ]
  },
  {
   "cell_type": "markdown",
   "id": "59f45cc1-f84e-434e-9b0c-54ef62530b28",
   "metadata": {},
   "source": [
    "***Step 8: Example Recommendation***"
   ]
  },
  {
   "cell_type": "markdown",
   "id": "5866c991-e93d-43df-a54b-e12ebddcb1fb",
   "metadata": {},
   "source": [
    "recommend_anime(\"Naruto\", top_n=5, threshold=0.5)\n"
   ]
  },
  {
   "cell_type": "markdown",
   "id": "157c4f00-b698-44f7-8b18-b33b7e11a4f7",
   "metadata": {},
   "source": [
    "testED our function by asking for the top 5 anime similar to Naruto.\n",
    "The system searches the similarity matrix and prints recommendations that have cosine scores above the set threshold."
   ]
  },
  {
   "cell_type": "markdown",
   "id": "d870908a-e729-4342-ac4d-5228d63a20a7",
   "metadata": {},
   "source": [
    "***Step 9: Evaluation (Train-Test Split)***"
   ]
  },
  {
   "cell_type": "code",
   "execution_count": 31,
   "id": "3715a23d-1990-4186-81bc-aca659ef4014",
   "metadata": {},
   "outputs": [],
   "source": [
    "train_df, test_df = train_test_split(df, test_size=0.2, random_state=42)\n"
   ]
  },
  {
   "cell_type": "markdown",
   "id": "6a8005ba-37f6-41ec-ba91-683261990408",
   "metadata": {},
   "source": [
    "The dataset is divided into training (80%) and testing (20%) portions.\n",
    "Although we’re not training a model, this split helps us simulate performance testing to evaluate how well recommendations align with user preferences."
   ]
  },
  {
   "cell_type": "markdown",
   "id": "adab7117-d9e7-43d8-b6c5-9308f5f12792",
   "metadata": {},
   "source": [
    "***Step 10: Evaluation Function***"
   ]
  },
  {
   "cell_type": "code",
   "execution_count": 35,
   "id": "22bfd56d-bf1b-4438-b1ce-e08776b10179",
   "metadata": {},
   "outputs": [],
   "source": [
    "def evaluate_model(threshold=0.5):\n",
    "    y_true, y_pred = [], []\n",
    "    \n",
    "    for i in range(len(test_df)):\n",
    "        idx = test_df.index[i]\n",
    "        sim_scores = cosine_sim[idx]\n",
    "        \n",
    "        liked_pred = np.any(sim_scores > threshold)\n",
    "        y_pred.append(liked_pred)\n",
    "        \n",
    "        liked_true = test_df.iloc[i]['rating'] >= 7.5\n",
    "        y_true.append(liked_true)\n",
    "    \n",
    "    p = precision_score(y_true, y_pred)\n",
    "    r = recall_score(y_true, y_pred)\n",
    "    f1 = f1_score(y_true, y_pred)\n",
    "    return p, r, f1\n"
   ]
  },
  {
   "cell_type": "markdown",
   "id": "3f759305-14c3-4192-a920-6a26724e5c62",
   "metadata": {},
   "source": [
    "createD a function to calculate performance metrics.\n",
    "If an anime’s cosine similarity exceeds the threshold, it’s considered “recommended.”\n",
    "We compare this with actual ratings to compute precision, recall, and F1-score."
   ]
  },
  {
   "cell_type": "markdown",
   "id": "4696d2d6-aa4e-477f-9b81-e88331938b14",
   "metadata": {},
   "source": [
    "***Step 11: Evaluate for Different Thresholds***"
   ]
  },
  {
   "cell_type": "code",
   "execution_count": 34,
   "id": "abbcd806-bdef-4402-9210-3bbe6e6f9337",
   "metadata": {},
   "outputs": [
    {
     "name": "stdout",
     "output_type": "stream",
     "text": [
      "\n",
      "📊 Evaluation Results:\n",
      "   Threshold  Precision  Recall  F1-Score\n",
      "0        0.3   0.146808     1.0  0.256028\n",
      "1        0.4   0.146808     1.0  0.256028\n",
      "2        0.5   0.146808     1.0  0.256028\n",
      "3        0.6   0.146808     1.0  0.256028\n"
     ]
    }
   ],
   "source": [
    "thresholds = [0.3, 0.4, 0.5, 0.6]\n",
    "results = []\n",
    "\n",
    "for t in thresholds:\n",
    "    p, r, f1 = evaluate_model(t)\n",
    "    results.append((t, p, r, f1))\n",
    "\n",
    "results_df = pd.DataFrame(results, columns=['Threshold', 'Precision', 'Recall', 'F1-Score'])\n",
    "print(\"\\n📊 Evaluation Results:\")\n",
    "print(results_df)\n"
   ]
  },
  {
   "cell_type": "markdown",
   "id": "aaf4f90f-38b7-4fbe-9ee6-d11119147e6b",
   "metadata": {},
   "source": [
    "testd our system at multiple threshold levels to see how performance changes.\n",
    "Higher thresholds mean stricter similarity matching, while lower ones give more recommendations.\n",
    "We store and display the results in a DataFrame."
   ]
  },
  {
   "cell_type": "markdown",
   "id": "fc46fab1-92b5-4ce8-a65b-bd6e3eb63f05",
   "metadata": {},
   "source": [
    "***Step 12: Plot Evaluation Metrics***"
   ]
  },
  {
   "cell_type": "code",
   "execution_count": 36,
   "id": "8eb4ba54-94c9-4a22-80ac-1ebaafba08f4",
   "metadata": {},
   "outputs": [
    {
     "data": {
      "image/png": "[encoded data removed]",
      "text/plain": [
       "<Figure size 800x500 with 1 Axes>"
      ]
     },
     "metadata": {},
     "output_type": "display_data"
    }
   ],
   "source": [
    "plt.figure(figsize=(8,5))\n",
    "plt.plot(results_df['Threshold'], results_df['Precision'], label='Precision', marker='o')\n",
    "plt.plot(results_df['Threshold'], results_df['Recall'], label='Recall', marker='o')\n",
    "plt.plot(results_df['Threshold'], results_df['F1-Score'], label='F1-Score', marker='o')\n",
    "plt.title(\"Evaluation Metrics vs Cosine Similarity Threshold\")\n",
    "plt.xlabel(\"Threshold\")\n",
    "plt.ylabel(\"Score\")\n",
    "plt.legend()\n",
    "plt.show()\n"
   ]
  },
  {
   "cell_type": "markdown",
   "id": "730f2265-ab61-449c-80aa-3797ac2b0841",
   "metadata": {},
   "source": [
    "here visualized how precision, recall, and F1-score change with different thresholds.\n",
    "This helps in finding the best balance between accuracy and coverage of recommendations."
   ]
  },
  {
   "cell_type": "markdown",
   "id": "050c4d20-21ca-421f-b60e-d299f29a05ed",
   "metadata": {},
   "source": [
    "***Step 13: Final Summary***"
   ]
  },
  {
   "cell_type": "code",
   "execution_count": 37,
   "id": "c3496ed1-a81e-4038-aefd-328ec7f48c4d",
   "metadata": {},
   "outputs": [
    {
     "name": "stdout",
     "output_type": "stream",
     "text": [
      "\n",
      "✅ Final Summary:\n",
      "1️⃣ Dataset loaded and cleaned (missing values handled)\n",
      "2️⃣ Features extracted (genre, type, episodes)\n",
      "3️⃣ Cosine similarity computed\n",
      "4️⃣ Recommendation function implemented\n",
      "5️⃣ Threshold-based recommendations tested\n",
      "6️⃣ Evaluation performed using precision, recall, F1-score\n",
      "7️⃣ Plots generated for clarity\n",
      "🎯 Recommendation System Successfully Completed!\n",
      "\n"
     ]
    }
   ],
   "source": [
    "print(\"\"\"\n",
    "✅ Final Summary:\n",
    "1️⃣ Dataset loaded and cleaned (missing values handled)\n",
    "2️⃣ Features extracted (genre, type, episodes)\n",
    "3️⃣ Cosine similarity computed\n",
    "4️⃣ Recommendation function implemented\n",
    "5️⃣ Threshold-based recommendations tested\n",
    "6️⃣ Evaluation performed using precision, recall, F1-score\n",
    "7️⃣ Plots generated for clarity\n",
    "🎯 Recommendation System Successfully Completed!\n",
    "\"\"\")\n"
   ]
  },
  {
   "cell_type": "markdown",
   "id": "bbfae8fb-8be2-4865-8961-35e129ca7253",
   "metadata": {},
   "source": [
    "***Interview que***"
   ]
  },
  {
   "cell_type": "markdown",
   "id": "a7f898d7-299c-4dee-ade7-9ecf69810576",
   "metadata": {},
   "source": [
    "***Difference between User-Based and Item-Based Collaborative Filtering***\n",
    "\n",
    "***User-Based Collaborative Filtering:***\n",
    "\n",
    "Focuses on finding similar users based on their past ratings or preferences.\n",
    "\n",
    "Recommends items that similar users have liked but the target user hasn’t seen yet.\n",
    "\n",
    "Example: “People similar to you also liked Attack on Titan.”\n",
    "\n",
    "Works well when there are enough users with overlapping interests.\n",
    "\n",
    "Can face scalability issues if the number of users is very large.\n",
    "\n",
    "***Item-Based Collaborative Filtering:***\n",
    "\n",
    "Focuses on finding similar items based on how users have rated them.\n",
    "\n",
    "Recommends items that are similar to what the user has already liked.\n",
    "\n",
    "Example: “Because you liked Naruto, you might like Bleach.”\n",
    "\n",
    "Usually more stable because item relationships don’t change frequently.\n",
    "\n",
    "Performs better with large datasets and less affected by new users joining.\n",
    "\n",
    "In short:\n",
    "\n",
    "User-based CF → finds similar users.\n",
    "\n",
    "Item-based CF → finds similar items."
   ]
  },
  {
   "cell_type": "markdown",
   "id": "47e77a84-8a51-48ab-9fef-3750e498d035",
   "metadata": {},
   "source": [
    "***What is collaborative filtering, and how does it work?***\n",
    "\n",
    "\n",
    "Collaborative Filtering (CF) is a recommendation technique that suggests items to a user based on the preferences or behavior of similar users or items.\n",
    "\n",
    "How it works (stepwise):\n",
    "\n",
    "Collect user-item interactions: e.g., user ratings, likes, or watch history.\n",
    "\n",
    "Find similarity:\n",
    "\n",
    "Between users (user-based CF), or\n",
    "\n",
    "Between items (item-based CF).\n",
    "Similarity is often computed using cosine similarity, Pearson correlation, or Jaccard index.\n",
    "\n",
    "Predict missing ratings: Estimate how a user might rate an item they haven’t interacted with.\n",
    "\n",
    "Generate recommendations: Recommend top-N items with the highest predicted ratings.\n",
    "\n",
    "Example:\n",
    "If User A and User B rated many anime similarly, and User B liked Demon Slayer, then Demon Slayer may be recommended to User A.\n",
    "\n",
    "***Key Point:\n",
    "Collaborative filtering relies purely on user behavior data — not on content or metadata — hence it’s called collaborative (users “collaborate” through their preferences).***"
   ]
  },
  {
   "cell_type": "code",
   "execution_count": null,
   "id": "8b8e1255-298b-48a2-9150-56ab8a326e00",
   "metadata": {},
   "outputs": [],
   "source": []
  }
 ],
 "metadata": {
  "kernelspec": {
   "display_name": "Python [conda env:base] *",
   "language": "python",
   "name": "conda-base-py"
  },
  "language_info": {
   "codemirror_mode": {
    "name": "ipython",
    "version": 3
   },
   "file_extension": ".py",
   "mimetype": "text/x-python",
   "name": "python",
   "nbconvert_exporter": "python",
   "pygments_lexer": "ipython3",
   "version": "3.13.5"
  }
 },
 "nbformat": 4,
 "nbformat_minor": 5
}
