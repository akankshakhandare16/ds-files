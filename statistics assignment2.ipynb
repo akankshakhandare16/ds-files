{
 "cells": [
  {
   "cell_type": "markdown",
   "id": "c77138ee-3e12-4c97-a4b0-2519d6afb319",
   "metadata": {},
   "source": [
    "**AKANKSHA C. KHADARE**"
   ]
  },
  {
   "cell_type": "markdown",
   "id": "c91a8b96-18e3-4f83-ac39-adabf105ec9b",
   "metadata": {},
   "source": [
    "Assignment 2 basic statistics "
   ]
  },
  {
   "cell_type": "code",
   "execution_count": 2,
   "id": "49c2d5b9-ab94-4ea2-b011-cd573ccb61b2",
   "metadata": {},
   "outputs": [
    {
     "name": "stdout",
     "output_type": "stream",
     "text": [
      "Requirement already satisfied: numpy in c:\\users\\hp\\appdata\\local\\programs\\python\\python313\\lib\\site-packages (2.3.2)\n",
      "Collecting scipy\n",
      "  Downloading scipy-1.16.1-cp313-cp313-win_amd64.whl.metadata (60 kB)\n",
      "Downloading scipy-1.16.1-cp313-cp313-win_amd64.whl (38.5 MB)\n",
      "   ---------------------------------------- 0.0/38.5 MB ? eta -:--:--\n",
      "   - -------------------------------------- 1.8/38.5 MB 8.5 MB/s eta 0:00:05\n",
      "   --- ------------------------------------ 3.1/38.5 MB 7.5 MB/s eta 0:00:05\n",
      "   ---- ----------------------------------- 4.5/38.5 MB 7.3 MB/s eta 0:00:05\n",
      "   ----- ---------------------------------- 5.8/38.5 MB 7.0 MB/s eta 0:00:05\n",
      "   ------- -------------------------------- 7.1/38.5 MB 6.9 MB/s eta 0:00:05\n",
      "   -------- ------------------------------- 8.4/38.5 MB 6.8 MB/s eta 0:00:05\n",
      "   ---------- ----------------------------- 9.7/38.5 MB 6.7 MB/s eta 0:00:05\n",
      "   ----------- ---------------------------- 11.0/38.5 MB 6.6 MB/s eta 0:00:05\n",
      "   ------------ --------------------------- 12.3/38.5 MB 6.6 MB/s eta 0:00:04\n",
      "   -------------- ------------------------- 13.9/38.5 MB 6.6 MB/s eta 0:00:04\n",
      "   --------------- ------------------------ 14.9/38.5 MB 6.5 MB/s eta 0:00:04\n",
      "   ---------------- ----------------------- 16.3/38.5 MB 6.5 MB/s eta 0:00:04\n",
      "   ------------------ --------------------- 17.6/38.5 MB 6.5 MB/s eta 0:00:04\n",
      "   ------------------- -------------------- 18.9/38.5 MB 6.5 MB/s eta 0:00:03\n",
      "   -------------------- ------------------- 20.2/38.5 MB 6.5 MB/s eta 0:00:03\n",
      "   ---------------------- ----------------- 21.5/38.5 MB 6.5 MB/s eta 0:00:03\n",
      "   ----------------------- ---------------- 22.8/38.5 MB 6.5 MB/s eta 0:00:03\n",
      "   ------------------------- -------------- 24.4/38.5 MB 6.5 MB/s eta 0:00:03\n",
      "   -------------------------- ------------- 25.7/38.5 MB 6.5 MB/s eta 0:00:02\n",
      "   --------------------------- ------------ 26.7/38.5 MB 6.4 MB/s eta 0:00:02\n",
      "   ----------------------------- ---------- 28.0/38.5 MB 6.4 MB/s eta 0:00:02\n",
      "   ------------------------------ --------- 29.6/38.5 MB 6.4 MB/s eta 0:00:02\n",
      "   -------------------------------- ------- 30.9/38.5 MB 6.4 MB/s eta 0:00:02\n",
      "   --------------------------------- ------ 32.2/38.5 MB 6.4 MB/s eta 0:00:01\n",
      "   ----------------------------------- ---- 33.8/38.5 MB 6.4 MB/s eta 0:00:01\n",
      "   ------------------------------------ --- 35.1/38.5 MB 6.4 MB/s eta 0:00:01\n",
      "   ------------------------------------- -- 36.4/38.5 MB 6.4 MB/s eta 0:00:01\n",
      "   ---------------------------------------  37.7/38.5 MB 6.4 MB/s eta 0:00:01\n",
      "   ---------------------------------------- 38.5/38.5 MB 6.3 MB/s eta 0:00:00\n",
      "Installing collected packages: scipy\n",
      "Successfully installed scipy-1.16.1\n"
     ]
    },
    {
     "name": "stderr",
     "output_type": "stream",
     "text": [
      "\n",
      "[notice] A new release of pip is available: 25.1.1 -> 25.2\n",
      "[notice] To update, run: python.exe -m pip install --upgrade pip\n"
     ]
    }
   ],
   "source": [
    "!pip install numpy scipy"
   ]
  },
  {
   "cell_type": "code",
   "execution_count": 3,
   "id": "b3efb120-6339-4b41-baa3-78bba03c273b",
   "metadata": {},
   "outputs": [],
   "source": [
    "import numpy as np\n",
    "from scipy import stats"
   ]
  },
  {
   "cell_type": "code",
   "execution_count": 4,
   "id": "58419c80-c9fe-4579-8ab6-c9c689116367",
   "metadata": {},
   "outputs": [],
   "source": [
    "durability = [1.13, 1.55, 1.43, 0.92, 1.25, 1.36, 1.32, 0.85, 1.07, 1.48, 1.20, 1.33, 1.18, 1.22, 1.29]"
   ]
  },
  {
   "cell_type": "markdown",
   "id": "f722b901-bc34-4125-b1a8-cc533a7c4b26",
   "metadata": {},
   "source": [
    "**BASIC STAT**"
   ]
  },
  {
   "cell_type": "code",
   "execution_count": 5,
   "id": "b5d253c7-1732-4feb-9099-ad454f96cbe4",
   "metadata": {},
   "outputs": [],
   "source": [
    "n = len(durability)\n",
    "avg = np.mean(durability)\n",
    "sd = np.std(durability, ddof=1)\n"
   ]
  },
  {
   "cell_type": "code",
   "execution_count": 6,
   "id": "1605eeba-d894-4bc4-bfa3-c74f6b4c6e2b",
   "metadata": {},
   "outputs": [
    {
     "name": "stdout",
     "output_type": "stream",
     "text": [
      "Mean: 1.239\n",
      "Sample Std Dev: 0.193\n"
     ]
    }
   ],
   "source": [
    "\n",
    "print(f\"Mean: {avg:.3f}\")\n",
    "print(f\"Sample Std Dev: {sd:.3f}\")"
   ]
  },
  {
   "cell_type": "markdown",
   "id": "4c719904-8665-485a-9750-e1fbd9c7e5fd",
   "metadata": {},
   "source": [
    "**a. 99% CI using sample SD (t-distribution)**"
   ]
  },
  {
   "cell_type": "code",
   "execution_count": 7,
   "id": "56b5395a-af56-44d7-93df-4457ed40d2ed",
   "metadata": {},
   "outputs": [],
   "source": [
    "df = n - 1\n",
    "t_val = stats.t.ppf(0.995, df)\n",
    "moe_t = t_val * (sd / np.sqrt(n))          # Used t-distribution because population SD is unknown and sample size is small.\n",
    "low_t = avg - moe_t\n",
    "high_t = avg + moe_t"
   ]
  },
  {
   "cell_type": "code",
   "execution_count": 8,
   "id": "1d197116-f476-455d-b8b7-32e9e0200899",
   "metadata": {},
   "outputs": [
    {
     "name": "stdout",
     "output_type": "stream",
     "text": [
      "\n",
      "(a) 99% CI using sample SD:\n",
      "t-value: 2.977\n",
      "CI: [1.090, 1.387]\n"
     ]
    }
   ],
   "source": [
    "print(\"\\n(a) 99% CI using sample SD:\")\n",
    "print(f\"t-value: {t_val:.3f}\")\n",
    "print(f\"CI: [{low_t:.3f}, {high_t:.3f}]\")"
   ]
  },
  {
   "cell_type": "markdown",
   "id": "f418bdf3-9825-413d-bd86-aab1f0e5dd63",
   "metadata": {},
   "source": [
    "**b. 99% CI using known pop SD (z-distribution)**"
   ]
  },
  {
   "cell_type": "code",
   "execution_count": 12,
   "id": "b01587c0-260e-48b4-baad-38f682d475c5",
   "metadata": {},
   "outputs": [],
   "source": [
    "pop_sd = 0.2\n",
    "z_val = stats.norm.ppf(0.995)\n",
    "moe_z = z_val * (pop_sd / np.sqrt(n))          #  Used z-distribution because population SD is known.\n",
    "low_z = avg - moe_z\n",
    "high_z = avg + moe_z"
   ]
  },
  {
   "cell_type": "code",
   "execution_count": 11,
   "id": "7a4d3ced-0cad-4fd0-90ea-8181e5532227",
   "metadata": {},
   "outputs": [
    {
     "name": "stdout",
     "output_type": "stream",
     "text": [
      "\n",
      "(b) 99% CI using population SD:\n",
      "z-value: 2.576\n",
      "CI: [1.106, 1.372]\n"
     ]
    }
   ],
   "source": [
    "print(\"\\n(b) 99% CI using population SD:\")\n",
    "print(f\"z-value: {z_val:.3f}\")\n",
    "print(f\"CI: [{low_z:.3f}, {high_z:.3f}]\")"
   ]
  },
  {
   "cell_type": "code",
   "execution_count": null,
   "id": "3f66cb98-c580-4fba-85c6-fb179032ce51",
   "metadata": {},
   "outputs": [],
   "source": []
  }
 ],
 "metadata": {
  "kernelspec": {
   "display_name": "Python 3 (ipykernel)",
   "language": "python",
   "name": "python3"
  },
  "language_info": {
   "codemirror_mode": {
    "name": "ipython",
    "version": 3
   },
   "file_extension": ".py",
   "mimetype": "text/x-python",
   "name": "python",
   "nbconvert_exporter": "python",
   "pygments_lexer": "ipython3",
   "version": "3.13.5"
  }
 },
 "nbformat": 4,
 "nbformat_minor": 5
}
