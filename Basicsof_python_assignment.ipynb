{
 "cells": [
  {
   "cell_type": "markdown",
   "id": "b33c2638-4802-47ad-b4e6-1f823fdb6326",
   "metadata": {},
   "source": [
    "AKANKSHA CHATRABHUJ KHANDARE\n",
    "7219720955\n",
    "akankshakhandare2000@gmail.com\n",
    "Assignment 3 for python"
   ]
  },
  {
   "cell_type": "markdown",
   "id": "4bf15cc0-8b06-4ee8-9304-b26f903545f7",
   "metadata": {},
   "source": [
    "Exercise 1: Prime Numbers\n",
    "Write a Python program that checks whether a given number is prime or not. A prime number is a natural number greater than 1 that has no positive divisors other than 1 and itself.\n"
   ]
  },
  {
   "cell_type": "code",
   "execution_count": 1,
   "id": "5eb3c664-0e3c-4036-a401-ac43f34ad7d3",
   "metadata": {},
   "outputs": [
    {
     "name": "stdin",
     "output_type": "stream",
     "text": [
      "Enter a number:  10\n"
     ]
    }
   ],
   "source": [
    "# Input from user\n",
    "num = int(input(\"Enter a number: \"))"
   ]
  },
  {
   "cell_type": "code",
   "execution_count": 11,
   "id": "d9a66c3c-e1ac-473d-999c-a2c50981c5bc",
   "metadata": {},
   "outputs": [],
   "source": [
    "if num <= 1:\n",
    "    print(f\"{num} is not a prime number.\")\n",
    "else:\n",
    "    is_prime = True\n",
    "    for i in range(2, num):\n",
    "        if num % i == 0:\n",
    "            is_prime = False\n",
    "            break"
   ]
  },
  {
   "cell_type": "code",
   "execution_count": 14,
   "id": "03630c15-47b6-420f-b153-25ed74f40162",
   "metadata": {},
   "outputs": [
    {
     "name": "stdout",
     "output_type": "stream",
     "text": [
      "10 is not a prime number.\n"
     ]
    }
   ],
   "source": [
    " if is_prime:\n",
    "        print(f\"{num} is a prime number.\")\n",
    " else:\n",
    "        print(f\"{num} is not a prime number.\")"
   ]
  },
  {
   "cell_type": "markdown",
   "id": "5bfbb7e2-98d8-4008-a5f2-ac004bc6fe79",
   "metadata": {},
   "source": [
    "Exercise 2: Product of Random Numbers\n",
    "Develop a Python program that generates two random numbers and asks the user to enter the product of these numbers. The program should then check if the user's answer is correct and display an appropriate message.\n"
   ]
  },
  {
   "cell_type": "code",
   "execution_count": 19,
   "id": "789317ba-3d0d-4798-a682-6e5e3921d3d1",
   "metadata": {},
   "outputs": [],
   "source": [
    "from random import randint\n"
   ]
  },
  {
   "cell_type": "code",
   "execution_count": 16,
   "id": "3c7164d3-5973-4704-adef-e8560cece97b",
   "metadata": {},
   "outputs": [],
   "source": [
    "num1 = randint(1, 10)\n",
    "num2 = randint(1, 10)\n"
   ]
  },
  {
   "cell_type": "code",
   "execution_count": 21,
   "id": "10201f7b-a371-46b8-8e9a-7b9c07144c96",
   "metadata": {},
   "outputs": [
    {
     "name": "stdout",
     "output_type": "stream",
     "text": [
      "What is the product of 2 and 10?\n"
     ]
    },
    {
     "name": "stdin",
     "output_type": "stream",
     "text": [
      "Your answer:  5\n"
     ]
    },
    {
     "name": "stdout",
     "output_type": "stream",
     "text": [
      "Wrong. The correct answer is 20.\n"
     ]
    }
   ],
   "source": [
    "print(f\"What is the product of {num1} and {num2}?\")\n",
    "user_answer = int(input(\"Your answer: \"))\n",
    "\n",
    "correct_answer = num1 * num2\n",
    "\n",
    "if user_answer == correct_answer:\n",
    "    print(\"Correct! 🎉\")\n",
    "else:\n",
    "    print(f\"Wrong. The correct answer is {correct_answer}.\")"
   ]
  },
  {
   "cell_type": "markdown",
   "id": "6fa965c5-6e83-4d68-9bd0-1aacf1c40c67",
   "metadata": {},
   "source": [
    "Exercise 3: Squares of Even/Odd Numbers\n",
    "Create a Python script that prints the squares of all even or odd numbers within the range of 100 to 200. Choose either even or odd numbers and document your choice in the code.\n"
   ]
  },
  {
   "cell_type": "code",
   "execution_count": 22,
   "id": "a6e57567-7e6a-409b-b72d-ce735182c15f",
   "metadata": {},
   "outputs": [
    {
     "name": "stdout",
     "output_type": "stream",
     "text": [
      "Squares of even numbers from 100 to 200:\n"
     ]
    }
   ],
   "source": [
    "print(\"Squares of even numbers from 100 to 200:\")\n"
   ]
  },
  {
   "cell_type": "code",
   "execution_count": 23,
   "id": "40bdfb96-80c0-4492-a851-631545e1a047",
   "metadata": {},
   "outputs": [
    {
     "name": "stdout",
     "output_type": "stream",
     "text": [
      "100^2 = 10000\n",
      "102^2 = 10404\n",
      "104^2 = 10816\n",
      "106^2 = 11236\n",
      "108^2 = 11664\n",
      "110^2 = 12100\n",
      "112^2 = 12544\n",
      "114^2 = 12996\n",
      "116^2 = 13456\n",
      "118^2 = 13924\n",
      "120^2 = 14400\n",
      "122^2 = 14884\n",
      "124^2 = 15376\n",
      "126^2 = 15876\n",
      "128^2 = 16384\n",
      "130^2 = 16900\n",
      "132^2 = 17424\n",
      "134^2 = 17956\n",
      "136^2 = 18496\n",
      "138^2 = 19044\n",
      "140^2 = 19600\n",
      "142^2 = 20164\n",
      "144^2 = 20736\n",
      "146^2 = 21316\n",
      "148^2 = 21904\n",
      "150^2 = 22500\n",
      "152^2 = 23104\n",
      "154^2 = 23716\n",
      "156^2 = 24336\n",
      "158^2 = 24964\n",
      "160^2 = 25600\n",
      "162^2 = 26244\n",
      "164^2 = 26896\n",
      "166^2 = 27556\n",
      "168^2 = 28224\n",
      "170^2 = 28900\n",
      "172^2 = 29584\n",
      "174^2 = 30276\n",
      "176^2 = 30976\n",
      "178^2 = 31684\n",
      "180^2 = 32400\n",
      "182^2 = 33124\n",
      "184^2 = 33856\n",
      "186^2 = 34596\n",
      "188^2 = 35344\n",
      "190^2 = 36100\n",
      "192^2 = 36864\n",
      "194^2 = 37636\n",
      "196^2 = 38416\n",
      "198^2 = 39204\n",
      "200^2 = 40000\n"
     ]
    }
   ],
   "source": [
    "for num in range(100, 201):  # 201 because range is exclusive at end\n",
    "    if num % 2 == 0:\n",
    "        square = num ** 2\n",
    "        print(f\"{num}^2 = {square}\")"
   ]
  },
  {
   "cell_type": "markdown",
   "id": "59eb9c55-8efb-405a-a65a-400cbc031a04",
   "metadata": {},
   "source": [
    "FOR ODD NUMB ="
   ]
  },
  {
   "cell_type": "code",
   "execution_count": 27,
   "id": "00c6e192-7c32-409d-a984-afc5d44d01ae",
   "metadata": {},
   "outputs": [
    {
     "name": "stdout",
     "output_type": "stream",
     "text": [
      "101^2 = 10201\n",
      "103^2 = 10609\n",
      "105^2 = 11025\n",
      "107^2 = 11449\n",
      "109^2 = 11881\n",
      "111^2 = 12321\n",
      "113^2 = 12769\n",
      "115^2 = 13225\n",
      "117^2 = 13689\n",
      "119^2 = 14161\n",
      "121^2 = 14641\n",
      "123^2 = 15129\n",
      "125^2 = 15625\n",
      "127^2 = 16129\n",
      "129^2 = 16641\n",
      "131^2 = 17161\n",
      "133^2 = 17689\n",
      "135^2 = 18225\n",
      "137^2 = 18769\n",
      "139^2 = 19321\n",
      "141^2 = 19881\n",
      "143^2 = 20449\n",
      "145^2 = 21025\n",
      "147^2 = 21609\n",
      "149^2 = 22201\n",
      "151^2 = 22801\n",
      "153^2 = 23409\n",
      "155^2 = 24025\n",
      "157^2 = 24649\n",
      "159^2 = 25281\n",
      "161^2 = 25921\n",
      "163^2 = 26569\n",
      "165^2 = 27225\n",
      "167^2 = 27889\n",
      "169^2 = 28561\n",
      "171^2 = 29241\n",
      "173^2 = 29929\n",
      "175^2 = 30625\n",
      "177^2 = 31329\n",
      "179^2 = 32041\n",
      "181^2 = 32761\n",
      "183^2 = 33489\n",
      "185^2 = 34225\n",
      "187^2 = 34969\n",
      "189^2 = 35721\n",
      "191^2 = 36481\n",
      "193^2 = 37249\n",
      "195^2 = 38025\n",
      "197^2 = 38809\n",
      "199^2 = 39601\n"
     ]
    }
   ],
   "source": [
    "\n",
    "for num in range(100, 201):  # 201 because range is exclusive at end\n",
    "     if num % 2 != 0:\n",
    "        square = num ** 2\n",
    "        print(f\"{num}^2 = {square}\")"
   ]
  },
  {
   "cell_type": "markdown",
   "id": "011b5c1d-2ee7-4c51-8285-7230ac66363c",
   "metadata": {},
   "source": [
    "Exercise 4: Word counter\n",
    "write a program to count the number of words in a given text.\n",
    "example:\n",
    "input_text = \"This is a sample text. This text will be used to demonstrate the word counter.\"\n",
    "Expected output:\n",
    "'This': 2 \n",
    "'is': 1\n",
    "'a': 1\n",
    "'sample': 1\n",
    "'text.': 1\n"
   ]
  },
  {
   "cell_type": "code",
   "execution_count": 33,
   "id": "022eb325-ec0c-4c0b-b2a3-0ce43e8c2046",
   "metadata": {},
   "outputs": [],
   "source": [
    "input_text = \"Hello I am Akanksha Khandare , I am Engineer at TATA Elxsi.\""
   ]
  },
  {
   "cell_type": "code",
   "execution_count": 34,
   "id": "64665d94-acf0-49e2-9217-138d9a3bff4e",
   "metadata": {},
   "outputs": [],
   "source": [
    "#toConvert the text into a list of words by splitting on spaces\n",
    "\n",
    "words = input_text.split()"
   ]
  },
  {
   "cell_type": "code",
   "execution_count": 35,
   "id": "9a47a5d6-576c-4888-ad3c-f3409c01beb6",
   "metadata": {},
   "outputs": [],
   "source": [
    "word_count = {}"
   ]
  },
  {
   "cell_type": "code",
   "execution_count": 36,
   "id": "49fcf3a8-27fd-46ab-9999-80b498d3d6a0",
   "metadata": {},
   "outputs": [],
   "source": [
    "#Count each word\n",
    "for word in words:\n",
    "    if word in word_count:\n",
    "        word_count[word] += 1\n",
    "    else:\n",
    "        word_count[word] = 1"
   ]
  },
  {
   "cell_type": "code",
   "execution_count": 37,
   "id": "40c437b4-8a34-4d06-96ed-07da80236c9f",
   "metadata": {},
   "outputs": [
    {
     "name": "stdout",
     "output_type": "stream",
     "text": [
      "'Hello': 1\n",
      "'I': 2\n",
      "'am': 2\n",
      "'Akanksha': 1\n",
      "'Khandare': 1\n",
      "',': 1\n",
      "'Engineer': 1\n",
      "'at': 1\n",
      "'TATA': 1\n",
      "'Elxsi.': 1\n"
     ]
    }
   ],
   "source": [
    "for word, count in word_count.items():\n",
    "    print(f\"'{word}': {count}\")"
   ]
  },
  {
   "cell_type": "markdown",
   "id": "f8de94da-bbfd-4be4-8910-4f57cb9758a7",
   "metadata": {},
   "source": [
    "Exercise 5: Check for Palindrome\n",
    "Write a Python function called is_palindrome that takes a string as input and returns True if the string is a palindrome, and False otherwise. A palindrome is a word, phrase, number, or other sequence of characters that reads the same forward and backward, ignoring spaces, punctuation, and capitalization.\n",
    "Example:\n",
    "Input: \"racecar\"\n",
    "Expected Output: True\n"
   ]
  },
  {
   "cell_type": "code",
   "execution_count": 48,
   "id": "7136edf1-1c1f-49dd-a7c8-a496e011852c",
   "metadata": {},
   "outputs": [],
   "source": [
    " def is_palindrome(text):\n",
    "    text = text.lower()                  #Convert text to lowercase to make it case-insensitive\n",
    "    return text == text[::-1]"
   ]
  },
  {
   "cell_type": "code",
   "execution_count": 49,
   "id": "c9e04ec0-050c-498c-a690-578b08216b4c",
   "metadata": {},
   "outputs": [
    {
     "name": "stdin",
     "output_type": "stream",
     "text": [
      "Enter a word:  akanksha\n"
     ]
    }
   ],
   "source": [
    " \n",
    "word = input(\"Enter a word: \")"
   ]
  },
  {
   "cell_type": "code",
   "execution_count": 50,
   "id": "81753d50-a7b7-40b4-9e0a-f9b1595cbd88",
   "metadata": {},
   "outputs": [
    {
     "name": "stdout",
     "output_type": "stream",
     "text": [
      "It's not a palindrome.\n"
     ]
    }
   ],
   "source": [
    "if is_palindrome(word):\n",
    "    print(\"It's a palindrome!\")\n",
    "else:\n",
    "    print(\"It's not a palindrome.\")"
   ]
  },
  {
   "cell_type": "code",
   "execution_count": null,
   "id": "935739ae-f8f1-4556-8dce-55bcc3bf3913",
   "metadata": {},
   "outputs": [],
   "source": []
  }
 ],
 "metadata": {
  "kernelspec": {
   "display_name": "Python 3 (ipykernel)",
   "language": "python",
   "name": "python3"
  },
  "language_info": {
   "codemirror_mode": {
    "name": "ipython",
    "version": 3
   },
   "file_extension": ".py",
   "mimetype": "text/x-python",
   "name": "python",
   "nbconvert_exporter": "python",
   "pygments_lexer": "ipython3",
   "version": "3.13.5"
  }
 },
 "nbformat": 4,
 "nbformat_minor": 5
}
